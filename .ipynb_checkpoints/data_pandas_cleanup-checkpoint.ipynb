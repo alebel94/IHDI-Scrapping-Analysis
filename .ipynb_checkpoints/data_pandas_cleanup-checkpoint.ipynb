{
 "cells": [
  {
   "cell_type": "code",
   "execution_count": 1,
   "metadata": {},
   "outputs": [
    {
     "name": "stderr",
     "output_type": "stream",
     "text": [
      "'[]' is not recognized as an internal or external command,\n",
      "operable program or batch file.\n"
     ]
    }
   ],
   "source": [
    "![](https://encrypted-tbn0.gstatic.com/images?q=tbn:ANd9GcQg5EKdN0yjeDitN4XVZkS3jb86I7Lu0UBcrop0ViQwq-w9uRN-fQ)"
   ]
  },
  {
   "cell_type": "code",
   "execution_count": 24,
   "metadata": {},
   "outputs": [],
   "source": [
    "page = requests.get('https://en.wikipedia.org/wiki/List_of_countries_by_GDP_(nominal)')\n",
    "\n",
    "soup = BeautifulSoup(page.content, 'html.parser')\n"
   ]
  },
  {
   "cell_type": "code",
   "execution_count": 47,
   "metadata": {},
   "outputs": [],
   "source": [
    "class WikiScraperTitles:\n",
    "       \n",
    "    def __init__(self, soup, title_list):\n",
    "        self.soup = soup\n",
    "        self.title_list = title_list\n",
    "        \n",
    "        \n",
    "    def define_title(self, soup=soup):\n",
    "        wikitable_class = soup.find_all(\"table\", {\"class\": \"wikitable\"})[0]\n",
    "        tbody_class = list(wikitable_class.children)[1]\n",
    "        td_class_titles = list(tbody_class.children)[0]\n",
    "        return td_class_titles\n",
    "    \n",
    "    \n",
    "    def remove_tags(self, soup=soup, tag= '', regex = ''):\n",
    "        import re\n",
    "        text_corpus = soup.find_all(tag) \n",
    "        title_list = []\n",
    "\n",
    "        if type(regex) == str:\n",
    "            regex_in = regex\n",
    "        elif type(regex) == list:\n",
    "            regex_in = '|'.join(regex)\n",
    "        else:\n",
    "            raise ValueError('Use only a regex string or list of regex strings')\n",
    "\n",
    "        for node in text_corpus:\n",
    "            text = node.get_text()\n",
    "            text= re.sub(regex_in, '', text)\n",
    "            title_list.append(text)\n",
    "        return  self.title_list\n",
    "    \n",
    "    def make_titles(self, td_class_titles = self.td_class_titles , tag = 'td' , regex = [\"\\[[^\\]]*\\]\", '\\n'])):\n",
    "        final_titles = {}\n",
    "        title_list = removed_tag(td_class_titles, tag , regex)\n",
    "        j = 0\n",
    "        for i, val in enumerate(title_list, 1):\n",
    "            if val != '\\n':\n",
    "                j += 1\n",
    "                final_titles[f'Table_{j}'] = val\n",
    "        return self.final_titles\n",
    "\n",
    "#     def title_script():\n",
    "        "
   ]
  },
  {
   "cell_type": "code",
   "execution_count": 30,
   "metadata": {},
   "outputs": [
    {
     "data": {
      "text/plain": [
       "['Per the International Monetary Fund (2020 estimates)',\n",
       " 'Per the World Bank (2019)',\n",
       " 'Per the United Nations (2019)']"
      ]
     },
     "execution_count": 30,
     "metadata": {},
     "output_type": "execute_result"
    }
   ],
   "source": [
    "filtered_titles = WikiScraperTitles.remove_tags(td_class_titles, 'td' , [\"\\[[^\\]]*\\]\", '\\n'])\n",
    "filtered_titles"
   ]
  },
  {
   "cell_type": "code",
   "execution_count": null,
   "metadata": {},
   "outputs": [],
   "source": []
  }
 ],
 "metadata": {
  "kernelspec": {
   "display_name": "Python 3",
   "language": "python",
   "name": "python3"
  },
  "language_info": {
   "codemirror_mode": {
    "name": "ipython",
    "version": 3
   },
   "file_extension": ".py",
   "mimetype": "text/x-python",
   "name": "python",
   "nbconvert_exporter": "python",
   "pygments_lexer": "ipython3",
   "version": "3.8.5"
  }
 },
 "nbformat": 4,
 "nbformat_minor": 4
}
